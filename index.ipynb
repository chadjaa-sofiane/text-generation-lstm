{
 "cells": [
  {
   "cell_type": "code",
   "execution_count": 6,
   "metadata": {},
   "outputs": [
    {
     "name": "stdout",
     "output_type": "stream",
     "text": [
      "Requirement already satisfied: spacy in /usr/local/lib/python3.10/dist-packages (3.6.1)\n",
      "Requirement already satisfied: nltk in /usr/local/lib/python3.10/dist-packages (3.8.1)\n",
      "Requirement already satisfied: cymem<2.1.0,>=2.0.2 in /usr/local/lib/python3.10/dist-packages (from spacy) (2.0.8)\n",
      "Requirement already satisfied: requests<3.0.0,>=2.13.0 in /usr/local/lib/python3.10/dist-packages (from spacy) (2.31.0)\n",
      "Requirement already satisfied: setuptools in /usr/lib/python3/dist-packages (from spacy) (59.6.0)\n",
      "Requirement already satisfied: smart-open<7.0.0,>=5.2.1 in /usr/local/lib/python3.10/dist-packages (from spacy) (6.4.0)\n",
      "Requirement already satisfied: preshed<3.1.0,>=3.0.2 in /usr/local/lib/python3.10/dist-packages (from spacy) (3.0.9)\n",
      "Requirement already satisfied: spacy-legacy<3.1.0,>=3.0.11 in /usr/local/lib/python3.10/dist-packages (from spacy) (3.0.12)\n",
      "Requirement already satisfied: murmurhash<1.1.0,>=0.28.0 in /usr/local/lib/python3.10/dist-packages (from spacy) (1.0.10)\n",
      "Requirement already satisfied: catalogue<2.1.0,>=2.0.6 in /usr/local/lib/python3.10/dist-packages (from spacy) (2.0.9)\n",
      "Requirement already satisfied: langcodes<4.0.0,>=3.2.0 in /usr/local/lib/python3.10/dist-packages (from spacy) (3.3.0)\n",
      "Requirement already satisfied: packaging>=20.0 in /usr/local/lib/python3.10/dist-packages (from spacy) (23.1)\n",
      "Requirement already satisfied: pathy>=0.10.0 in /usr/local/lib/python3.10/dist-packages (from spacy) (0.10.2)\n",
      "Requirement already satisfied: pydantic!=1.8,!=1.8.1,<3.0.0,>=1.7.4 in /usr/local/lib/python3.10/dist-packages (from spacy) (2.3.0)\n",
      "Requirement already satisfied: numpy>=1.15.0 in /usr/local/lib/python3.10/dist-packages (from spacy) (1.24.3)\n",
      "Requirement already satisfied: thinc<8.2.0,>=8.1.8 in /usr/local/lib/python3.10/dist-packages (from spacy) (8.1.12)\n",
      "Requirement already satisfied: jinja2 in /usr/local/lib/python3.10/dist-packages (from spacy) (3.1.2)\n",
      "Requirement already satisfied: spacy-loggers<2.0.0,>=1.0.0 in /usr/local/lib/python3.10/dist-packages (from spacy) (1.0.5)\n",
      "Requirement already satisfied: typer<0.10.0,>=0.3.0 in /usr/local/lib/python3.10/dist-packages (from spacy) (0.9.0)\n",
      "Requirement already satisfied: srsly<3.0.0,>=2.4.3 in /usr/local/lib/python3.10/dist-packages (from spacy) (2.4.8)\n",
      "Requirement already satisfied: tqdm<5.0.0,>=4.38.0 in /usr/local/lib/python3.10/dist-packages (from spacy) (4.66.1)\n",
      "Requirement already satisfied: wasabi<1.2.0,>=0.9.1 in /usr/local/lib/python3.10/dist-packages (from spacy) (1.1.2)\n",
      "Requirement already satisfied: joblib in /usr/local/lib/python3.10/dist-packages (from nltk) (1.3.2)\n",
      "Requirement already satisfied: regex>=2021.8.3 in /usr/local/lib/python3.10/dist-packages (from nltk) (2023.8.8)\n",
      "Requirement already satisfied: click in /usr/local/lib/python3.10/dist-packages (from nltk) (8.1.7)\n",
      "Requirement already satisfied: pydantic-core==2.6.3 in /usr/local/lib/python3.10/dist-packages (from pydantic!=1.8,!=1.8.1,<3.0.0,>=1.7.4->spacy) (2.6.3)\n",
      "Requirement already satisfied: annotated-types>=0.4.0 in /usr/local/lib/python3.10/dist-packages (from pydantic!=1.8,!=1.8.1,<3.0.0,>=1.7.4->spacy) (0.5.0)\n",
      "Collecting typing-extensions>=4.6.1\n",
      "  Using cached typing_extensions-4.8.0-py3-none-any.whl (31 kB)\n",
      "Requirement already satisfied: certifi>=2017.4.17 in /usr/local/lib/python3.10/dist-packages (from requests<3.0.0,>=2.13.0->spacy) (2023.7.22)\n",
      "Requirement already satisfied: idna<4,>=2.5 in /usr/local/lib/python3.10/dist-packages (from requests<3.0.0,>=2.13.0->spacy) (3.4)\n",
      "Requirement already satisfied: charset-normalizer<4,>=2 in /usr/local/lib/python3.10/dist-packages (from requests<3.0.0,>=2.13.0->spacy) (3.2.0)\n",
      "Requirement already satisfied: urllib3<3,>=1.21.1 in /usr/local/lib/python3.10/dist-packages (from requests<3.0.0,>=2.13.0->spacy) (1.26.16)\n",
      "Requirement already satisfied: blis<0.8.0,>=0.7.8 in /usr/local/lib/python3.10/dist-packages (from thinc<8.2.0,>=8.1.8->spacy) (0.7.11)\n",
      "Requirement already satisfied: confection<1.0.0,>=0.0.1 in /usr/local/lib/python3.10/dist-packages (from thinc<8.2.0,>=8.1.8->spacy) (0.1.3)\n",
      "Requirement already satisfied: MarkupSafe>=2.0 in /usr/local/lib/python3.10/dist-packages (from jinja2->spacy) (2.1.3)\n",
      "Installing collected packages: typing-extensions\n",
      "  Attempting uninstall: typing-extensions\n",
      "    Found existing installation: typing_extensions 4.5.0\n",
      "    Uninstalling typing_extensions-4.5.0:\n",
      "      Successfully uninstalled typing_extensions-4.5.0\n",
      "\u001b[31mERROR: pip's dependency resolver does not currently take into account all the packages that are installed. This behaviour is the source of the following dependency conflicts.\n",
      "tensorflow 2.13.0 requires typing-extensions<4.6.0,>=3.6.6, but you have typing-extensions 4.8.0 which is incompatible.\u001b[0m\u001b[31m\n",
      "\u001b[0mSuccessfully installed typing-extensions-4.8.0\n",
      "\u001b[33mWARNING: Running pip as the 'root' user can result in broken permissions and conflicting behaviour with the system package manager. It is recommended to use a virtual environment instead: https://pip.pypa.io/warnings/venv\u001b[0m\u001b[33m\n",
      "\u001b[0mTraceback (most recent call last):\n",
      "  File \"/usr/local/lib/python3.11/dist-packages/confection/__init__.py\", line 38, in <module>\n",
      "    from pydantic.v1 import BaseModel, Extra, ValidationError, create_model\n",
      "  File \"/usr/local/lib/python3.11/dist-packages/pydantic/__init__.py\", line 13, in <module>\n",
      "    from . import dataclasses\n",
      "  File \"/usr/local/lib/python3.11/dist-packages/pydantic/dataclasses.py\", line 11, in <module>\n",
      "    from ._internal import _config, _decorators, _typing_extra\n",
      "  File \"/usr/local/lib/python3.11/dist-packages/pydantic/_internal/_decorators.py\", line 15, in <module>\n",
      "    from ..fields import ComputedFieldInfo\n",
      "  File \"/usr/local/lib/python3.11/dist-packages/pydantic/fields.py\", line 18, in <module>\n",
      "    from . import types\n",
      "  File \"/usr/local/lib/python3.11/dist-packages/pydantic/types.py\", line 34, in <module>\n",
      "    from ._internal import (\n",
      "  File \"/usr/local/lib/python3.11/dist-packages/pydantic/_internal/_fields.py\", line 13, in <module>\n",
      "    from . import _typing_extra\n",
      "  File \"/usr/local/lib/python3.11/dist-packages/pydantic/_internal/_typing_extra.py\", line 13, in <module>\n",
      "    from typing_extensions import Annotated, Final, Literal, TypeAliasType, TypeGuard, get_args, get_origin\n",
      "ImportError: cannot import name 'TypeAliasType' from 'typing_extensions' (/usr/local/lib/python3.11/dist-packages/typing_extensions.py)\n",
      "\n",
      "During handling of the above exception, another exception occurred:\n",
      "\n",
      "Traceback (most recent call last):\n",
      "  File \"/usr/local/bin/spacy\", line 5, in <module>\n",
      "    from spacy.cli import setup_cli\n",
      "  File \"/usr/local/lib/python3.11/dist-packages/spacy/__init__.py\", line 6, in <module>\n",
      "    from .errors import setup_default_warnings\n",
      "  File \"/usr/local/lib/python3.11/dist-packages/spacy/errors.py\", line 3, in <module>\n",
      "    from .compat import Literal\n",
      "  File \"/usr/local/lib/python3.11/dist-packages/spacy/compat.py\", line 4, in <module>\n",
      "    from thinc.util import copy_array\n",
      "  File \"/usr/local/lib/python3.11/dist-packages/thinc/__init__.py\", line 5, in <module>\n",
      "    from .config import registry\n",
      "  File \"/usr/local/lib/python3.11/dist-packages/thinc/config.py\", line 2, in <module>\n",
      "    import confection\n",
      "  File \"/usr/local/lib/python3.11/dist-packages/confection/__init__.py\", line 42, in <module>\n",
      "    from pydantic import BaseModel, create_model, ValidationError, Extra  # type: ignore\n",
      "    ^^^^^^^^^^^^^^^^^^^^^^^^^^^^^^^^^^^^^^^^^^^^^^^^^^^^^^^^^^^^^^^^^^^^\n",
      "  File \"/usr/local/lib/python3.11/dist-packages/pydantic/__init__.py\", line 13, in <module>\n",
      "    from . import dataclasses\n",
      "  File \"/usr/local/lib/python3.11/dist-packages/pydantic/dataclasses.py\", line 11, in <module>\n",
      "    from ._internal import _config, _decorators, _typing_extra\n",
      "  File \"/usr/local/lib/python3.11/dist-packages/pydantic/_internal/_decorators.py\", line 15, in <module>\n",
      "    from ..fields import ComputedFieldInfo\n",
      "  File \"/usr/local/lib/python3.11/dist-packages/pydantic/fields.py\", line 18, in <module>\n",
      "    from . import types\n",
      "  File \"/usr/local/lib/python3.11/dist-packages/pydantic/types.py\", line 34, in <module>\n",
      "    from ._internal import (\n",
      "  File \"/usr/local/lib/python3.11/dist-packages/pydantic/_internal/_fields.py\", line 13, in <module>\n",
      "    from . import _typing_extra\n",
      "  File \"/usr/local/lib/python3.11/dist-packages/pydantic/_internal/_typing_extra.py\", line 13, in <module>\n",
      "    from typing_extensions import Annotated, Final, Literal, TypeAliasType, TypeGuard, get_args, get_origin\n",
      "ImportError: cannot import name 'TypeAliasType' from 'typing_extensions' (/usr/local/lib/python3.11/dist-packages/typing_extensions.py)\n",
      "\u001b[33mWARNING: Skipping tensorflow-gpu as it is not installed.\u001b[0m\u001b[33m\n",
      "\u001b[0m\u001b[33mWARNING: Running pip as the 'root' user can result in broken permissions and conflicting behaviour with the system package manager. It is recommended to use a virtual environment instead: https://pip.pypa.io/warnings/venv\u001b[0m\u001b[33m\n",
      "\u001b[0mFound existing installation: tensorflow 2.13.0\n",
      "Uninstalling tensorflow-2.13.0:\n",
      "  Successfully uninstalled tensorflow-2.13.0\n",
      "\u001b[33mWARNING: Running pip as the 'root' user can result in broken permissions and conflicting behaviour with the system package manager. It is recommended to use a virtual environment instead: https://pip.pypa.io/warnings/venv\u001b[0m\u001b[33m\n",
      "\u001b[0mCollecting tensorflow\n",
      "  Using cached tensorflow-2.13.0-cp310-cp310-manylinux_2_17_x86_64.manylinux2014_x86_64.whl (524.1 MB)\n",
      "Requirement already satisfied: packaging in /usr/local/lib/python3.10/dist-packages (from tensorflow) (23.1)\n",
      "Requirement already satisfied: flatbuffers>=23.1.21 in /usr/local/lib/python3.10/dist-packages (from tensorflow) (23.5.26)\n",
      "Requirement already satisfied: gast<=0.4.0,>=0.2.1 in /usr/local/lib/python3.10/dist-packages (from tensorflow) (0.4.0)\n",
      "Requirement already satisfied: tensorflow-io-gcs-filesystem>=0.23.1 in /usr/local/lib/python3.10/dist-packages (from tensorflow) (0.34.0)\n",
      "Requirement already satisfied: numpy<=1.24.3,>=1.22 in /usr/local/lib/python3.10/dist-packages (from tensorflow) (1.24.3)\n",
      "Requirement already satisfied: wrapt>=1.11.0 in /usr/local/lib/python3.10/dist-packages (from tensorflow) (1.15.0)\n",
      "Requirement already satisfied: opt-einsum>=2.3.2 in /usr/local/lib/python3.10/dist-packages (from tensorflow) (3.3.0)\n",
      "Requirement already satisfied: tensorflow-estimator<2.14,>=2.13.0 in /usr/local/lib/python3.10/dist-packages (from tensorflow) (2.13.0)\n",
      "Collecting typing-extensions<4.6.0,>=3.6.6\n",
      "  Using cached typing_extensions-4.5.0-py3-none-any.whl (27 kB)\n",
      "Requirement already satisfied: h5py>=2.9.0 in /usr/local/lib/python3.10/dist-packages (from tensorflow) (3.9.0)\n",
      "Requirement already satisfied: astunparse>=1.6.0 in /usr/local/lib/python3.10/dist-packages (from tensorflow) (1.6.3)\n",
      "Requirement already satisfied: keras<2.14,>=2.13.1 in /usr/local/lib/python3.10/dist-packages (from tensorflow) (2.13.1)\n",
      "Requirement already satisfied: libclang>=13.0.0 in /usr/local/lib/python3.10/dist-packages (from tensorflow) (16.0.6)\n",
      "Requirement already satisfied: protobuf!=4.21.0,!=4.21.1,!=4.21.2,!=4.21.3,!=4.21.4,!=4.21.5,<5.0.0dev,>=3.20.3 in /usr/local/lib/python3.10/dist-packages (from tensorflow) (4.24.3)\n",
      "Requirement already satisfied: absl-py>=1.0.0 in /usr/local/lib/python3.10/dist-packages (from tensorflow) (2.0.0)\n",
      "Requirement already satisfied: google-pasta>=0.1.1 in /usr/local/lib/python3.10/dist-packages (from tensorflow) (0.2.0)\n",
      "Requirement already satisfied: termcolor>=1.1.0 in /usr/local/lib/python3.10/dist-packages (from tensorflow) (2.3.0)\n",
      "Requirement already satisfied: tensorboard<2.14,>=2.13 in /usr/local/lib/python3.10/dist-packages (from tensorflow) (2.13.0)\n",
      "Requirement already satisfied: six>=1.12.0 in /usr/lib/python3/dist-packages (from tensorflow) (1.16.0)\n",
      "Requirement already satisfied: grpcio<2.0,>=1.24.3 in /usr/local/lib/python3.10/dist-packages (from tensorflow) (1.58.0)\n",
      "Requirement already satisfied: setuptools in /usr/lib/python3/dist-packages (from tensorflow) (59.6.0)\n",
      "Requirement already satisfied: wheel<1.0,>=0.23.0 in /usr/lib/python3/dist-packages (from astunparse>=1.6.0->tensorflow) (0.37.1)\n",
      "Requirement already satisfied: tensorboard-data-server<0.8.0,>=0.7.0 in /usr/local/lib/python3.10/dist-packages (from tensorboard<2.14,>=2.13->tensorflow) (0.7.1)\n",
      "Requirement already satisfied: google-auth<3,>=1.6.3 in /usr/local/lib/python3.10/dist-packages (from tensorboard<2.14,>=2.13->tensorflow) (2.23.0)\n",
      "Requirement already satisfied: markdown>=2.6.8 in /usr/local/lib/python3.10/dist-packages (from tensorboard<2.14,>=2.13->tensorflow) (3.4.4)\n",
      "Requirement already satisfied: werkzeug>=1.0.1 in /usr/local/lib/python3.10/dist-packages (from tensorboard<2.14,>=2.13->tensorflow) (2.3.7)\n",
      "Requirement already satisfied: google-auth-oauthlib<1.1,>=0.5 in /usr/local/lib/python3.10/dist-packages (from tensorboard<2.14,>=2.13->tensorflow) (1.0.0)\n",
      "Requirement already satisfied: requests<3,>=2.21.0 in /usr/local/lib/python3.10/dist-packages (from tensorboard<2.14,>=2.13->tensorflow) (2.31.0)\n",
      "Requirement already satisfied: rsa<5,>=3.1.4 in /usr/local/lib/python3.10/dist-packages (from google-auth<3,>=1.6.3->tensorboard<2.14,>=2.13->tensorflow) (4.9)\n",
      "Requirement already satisfied: urllib3<2.0 in /usr/local/lib/python3.10/dist-packages (from google-auth<3,>=1.6.3->tensorboard<2.14,>=2.13->tensorflow) (1.26.16)\n",
      "Requirement already satisfied: cachetools<6.0,>=2.0.0 in /usr/local/lib/python3.10/dist-packages (from google-auth<3,>=1.6.3->tensorboard<2.14,>=2.13->tensorflow) (5.3.1)\n",
      "Requirement already satisfied: pyasn1-modules>=0.2.1 in /usr/local/lib/python3.10/dist-packages (from google-auth<3,>=1.6.3->tensorboard<2.14,>=2.13->tensorflow) (0.3.0)\n",
      "Requirement already satisfied: requests-oauthlib>=0.7.0 in /usr/local/lib/python3.10/dist-packages (from google-auth-oauthlib<1.1,>=0.5->tensorboard<2.14,>=2.13->tensorflow) (1.3.1)\n",
      "Requirement already satisfied: charset-normalizer<4,>=2 in /usr/local/lib/python3.10/dist-packages (from requests<3,>=2.21.0->tensorboard<2.14,>=2.13->tensorflow) (3.2.0)\n",
      "Requirement already satisfied: certifi>=2017.4.17 in /usr/local/lib/python3.10/dist-packages (from requests<3,>=2.21.0->tensorboard<2.14,>=2.13->tensorflow) (2023.7.22)\n",
      "Requirement already satisfied: idna<4,>=2.5 in /usr/local/lib/python3.10/dist-packages (from requests<3,>=2.21.0->tensorboard<2.14,>=2.13->tensorflow) (3.4)\n",
      "Requirement already satisfied: MarkupSafe>=2.1.1 in /usr/local/lib/python3.10/dist-packages (from werkzeug>=1.0.1->tensorboard<2.14,>=2.13->tensorflow) (2.1.3)\n",
      "Requirement already satisfied: pyasn1<0.6.0,>=0.4.6 in /usr/local/lib/python3.10/dist-packages (from pyasn1-modules>=0.2.1->google-auth<3,>=1.6.3->tensorboard<2.14,>=2.13->tensorflow) (0.5.0)\n",
      "Requirement already satisfied: oauthlib>=3.0.0 in /usr/lib/python3/dist-packages (from requests-oauthlib>=0.7.0->google-auth-oauthlib<1.1,>=0.5->tensorboard<2.14,>=2.13->tensorflow) (3.2.0)\n",
      "Installing collected packages: typing-extensions, tensorflow\n",
      "  Attempting uninstall: typing-extensions\n",
      "    Found existing installation: typing_extensions 4.8.0\n",
      "    Uninstalling typing_extensions-4.8.0:\n",
      "      Successfully uninstalled typing_extensions-4.8.0\n",
      "\u001b[31mERROR: pip's dependency resolver does not currently take into account all the packages that are installed. This behaviour is the source of the following dependency conflicts.\n",
      "pydantic 2.3.0 requires typing-extensions>=4.6.1, but you have typing-extensions 4.5.0 which is incompatible.\n",
      "pydantic-core 2.6.3 requires typing-extensions!=4.7.0,>=4.6.0, but you have typing-extensions 4.5.0 which is incompatible.\u001b[0m\u001b[31m\n",
      "\u001b[0mSuccessfully installed tensorflow-2.13.0 typing-extensions-4.5.0\n",
      "\u001b[33mWARNING: Running pip as the 'root' user can result in broken permissions and conflicting behaviour with the system package manager. It is recommended to use a virtual environment instead: https://pip.pypa.io/warnings/venv\u001b[0m\u001b[33m\n",
      "\u001b[0m"
     ]
    }
   ],
   "source": [
    "!pip install spacy nltk\n",
    "!spacy download en_core_web_sm\n",
    "!pip uninstall tensorflow-gpu -y\n",
    "!pip uninstall tensorflow -y\n",
    "!pip install --upgrade tensorflow"
   ]
  },
  {
   "cell_type": "code",
   "execution_count": 7,
   "metadata": {},
   "outputs": [],
   "source": [
    "import spacy\n",
    "import numpy as np\n",
    "import os\n",
    "import matplotlib.pyplot as plt\n",
    "from tensorflow.keras.preprocessing.text import Tokenizer\n",
    "import pandas as pd\n",
    "import json\n",
    "from tensorflow.keras.models import Sequential\n",
    "from tensorflow.keras.layers import LSTM, Dense, Bidirectional, Dropout, Embedding\n",
    "from tensorflow.keras.optimizers import Adam, AdamW\n",
    "from tensorflow.keras.models import load_model\n",
    "from tensorflow.keras.callbacks import ModelCheckpoint\n",
    "from tensorflow.keras.initializers import GlorotUniform\n",
    "from tensorflow.keras.optimizers.schedules import ExponentialDecay\n",
    "import tensorflow as tf\n",
    "from nltk.util import ngrams\n",
    "import time\n",
    "import csv"
   ]
  },
  {
   "cell_type": "markdown",
   "metadata": {},
   "source": [
    "## utilize TPUs\n",
    "the code below will create a TPU strategy if there are any TPUs availabe"
   ]
  },
  {
   "cell_type": "code",
   "execution_count": 8,
   "metadata": {},
   "outputs": [
    {
     "name": "stdout",
     "output_type": "stream",
     "text": [
      "Please provide a TPU Name to connect to.\n"
     ]
    },
    {
     "data": {
      "text/plain": [
       "[PhysicalDevice(name='/physical_device:CPU:0', device_type='CPU')]"
      ]
     },
     "execution_count": 8,
     "metadata": {},
     "output_type": "execute_result"
    }
   ],
   "source": [
    "try:\n",
    "    tpu = tf.distribute.cluster_resolver.TPUClusterResolver('') \n",
    "    print(tpu)\n",
    "    print('Running on TPU ', tpu.master())\n",
    "except Exception as e:\n",
    "    print(e)\n",
    "    tpu = None\n",
    "\n",
    "if tpu:\n",
    "    tf.config.experimental_connect_to_cluster(tpu)\n",
    "    tf.tpu.experimental.initialize_tpu_system(tpu)\n",
    "    strategy = tf.distribute.TPUStrategy(tpu)\n",
    "else:\n",
    "    strategy = tf.distribute.get_strategy() \n",
    "\n",
    "tf.config.experimental.list_physical_devices()"
   ]
  },
  {
   "cell_type": "markdown",
   "metadata": {},
   "source": [
    "## utilize multiple GPUs\n",
    "the code below will create a mirror stategy which will allow multiple CPUs to work together."
   ]
  },
  {
   "cell_type": "code",
   "execution_count": 9,
   "metadata": {},
   "outputs": [
    {
     "name": "stdout",
     "output_type": "stream",
     "text": [
      "INFO:tensorflow:Using MirroredStrategy with devices ('/job:localhost/replica:0/task:0/device:CPU:0',)\n",
      "WARNING:tensorflow:From /tmp/ipykernel_11832/2929420770.py:3: is_gpu_available (from tensorflow.python.framework.test_util) is deprecated and will be removed in a future version.\n",
      "Instructions for updating:\n",
      "Use `tf.config.list_physical_devices('GPU')` instead.\n",
      "DEVICES AVAILABLE: 1\n"
     ]
    }
   ],
   "source": [
    "mirrored_strategy = tf.distribute.MirroredStrategy()\n",
    "#tf.config.set_soft_device_placement(True)\n",
    "tf.test.is_gpu_available()\n",
    "print('DEVICES AVAILABLE: {}'.format(mirrored_strategy.num_replicas_in_sync))"
   ]
  },
  {
   "cell_type": "markdown",
   "metadata": {},
   "source": [
    "## loading the small english core model from spacy\n",
    "in the code bellow we are loading the small english web core from spacy while disabling parser, tagger, ner, since we are not gonna use these features in our model, disabling them will make the text processing faster."
   ]
  },
  {
   "cell_type": "code",
   "execution_count": 11,
   "metadata": {},
   "outputs": [
    {
     "data": {
      "text/plain": [
       "False"
      ]
     },
     "execution_count": 11,
     "metadata": {},
     "output_type": "execute_result"
    }
   ],
   "source": [
    "nlp = spacy.load('en_core_web_sm', disable=['parser', 'tagger', 'ner'])\n",
    "nlp.add_pipe('sentencizer')\n",
    "nlp.max_length = 6_000_000_000\n",
    "\n",
    "spacy.prefer_gpu()"
   ]
  },
  {
   "cell_type": "markdown",
   "metadata": {},
   "source": [
    "## folders and files we are gonna use for this model\n",
    "you need to create a stories folder and add at least one text file."
   ]
  },
  {
   "cell_type": "code",
   "execution_count": 13,
   "metadata": {},
   "outputs": [],
   "source": [
    "word_index_file = \"word_index.json\"\n",
    "stories_folder = \"stories\"\n",
    "stories_files = os.listdir(stories_folder)\n",
    "\n",
    "model_progress = 'result/model_progress.json'\n",
    "models_path = 'result/working/models'\n",
    "history_folder = 'result/working/history'"
   ]
  },
  {
   "cell_type": "markdown",
   "metadata": {},
   "source": [
    "## function that will allow us to preprocess the data\n",
    "transforming text data into raw numbers that our module can understand and process."
   ]
  },
  {
   "cell_type": "code",
   "execution_count": 15,
   "metadata": {},
   "outputs": [],
   "source": [
    "# def create_embedded_sequence(sequence):\n",
    "#     embedded_sequence = []\n",
    "#     for token in sequence: \n",
    "#         if token in w2v_model:\n",
    "#             embedded_sequence.append(w2v_model[token])\n",
    "#         else: \n",
    "#             embedded_sequence.append(np.zeros(w2v_model.vector_size))\n",
    "#     return embedded_sequence\n",
    "\n",
    "def create_inputs_targets(text, window_size=3):\n",
    "    doc = nlp(text)\n",
    "    windows = []\n",
    "\n",
    "    for sent in doc.sents:\n",
    "        tokens = [token.text for token in sent if token.is_alpha or token.like_num]\n",
    "        if len(tokens) < window_size: \n",
    "            continue\n",
    "        n_gram = ngrams(tokens, window_size) \n",
    "        for window in n_gram: \n",
    "            windows.append(list(window))\n",
    "\n",
    "    words_targets = [w[-1] for w in windows]\n",
    "    sequences_inputs =  [w[:-1] for w in windows]\n",
    "    \n",
    "    with open(word_index_file, \"r\") as json_file:\n",
    "        word_index = json.load(json_file)\n",
    "    \n",
    "    tokenizer = Tokenizer(oov_token=\"<OOV>\")\n",
    "    tokenizer.word_index = word_index\n",
    "\n",
    "    targets = np.array(tokenizer.texts_to_sequences([words_targets])).flatten()\n",
    "    sequences_inputs = np.array(tokenizer.texts_to_sequences(sequences_inputs))\n",
    "\n",
    "    #sequences_inputs = np.array([create_embedded_sequence(sequence) for sequence in sequences_inputs])\n",
    "    \n",
    "    return sequences_inputs, targets"
   ]
  },
  {
   "cell_type": "markdown",
   "metadata": {},
   "source": [
    "preprocessing the first text file for test"
   ]
  },
  {
   "cell_type": "code",
   "execution_count": 20,
   "metadata": {},
   "outputs": [
    {
     "name": "stdout",
     "output_type": "stream",
     "text": [
      "102\n",
      "102\n"
     ]
    }
   ],
   "source": [
    "for file in stories_files[:1]:\n",
    "    with open(os.path.join(stories_folder, file), \"r\", encoding='utf-8') as f: \n",
    "        text = f.read()\n",
    "        inputs, targets = create_inputs_targets(text, 7)\n",
    "        print(len(inputs))\n",
    "        print(len(targets))"
   ]
  },
  {
   "cell_type": "markdown",
   "metadata": {},
   "source": [
    "## getting the vocab size"
   ]
  },
  {
   "cell_type": "code",
   "execution_count": 21,
   "metadata": {},
   "outputs": [
    {
     "data": {
      "text/plain": [
       "196"
      ]
     },
     "execution_count": 21,
     "metadata": {},
     "output_type": "execute_result"
    }
   ],
   "source": [
    "def get_vocab_size():\n",
    "    with open(word_index_file, \"r\") as json_file:\n",
    "        vocab_size = len(json.load(json_file)) + 1\n",
    "    del json_file\n",
    "    return vocab_size\n",
    "get_vocab_size()"
   ]
  },
  {
   "cell_type": "markdown",
   "metadata": {},
   "source": [
    "## model parameters"
   ]
  },
  {
   "cell_type": "code",
   "execution_count": 22,
   "metadata": {},
   "outputs": [
    {
     "name": "stdout",
     "output_type": "stream",
     "text": [
      "\n",
      "\n",
      "embedding dimention: 128\n",
      "vocabulare size: 196\n",
      "num of the epochs: 150\n",
      "\n",
      "learning rate: 0.0025\n",
      "dropout rate: 0.2\n",
      "batch_size: 512\n",
      "training_batch_size: 2048\n",
      "early stopping patience: 10\n",
      "window size: 10\n",
      "L1 regularization: 0.1\n",
      "\n"
     ]
    }
   ],
   "source": [
    "abjust_lr = 0.0\n",
    "\n",
    "embedding_dim = 128\n",
    "num_epochs = 150\n",
    "batch_size = 512\n",
    "training_batch_size = 2048\n",
    "vocab_size = get_vocab_size()\n",
    "lr = (0.01 * (batch_size / 32) ** -0.5) + abjust_lr\n",
    "dr = 0.2\n",
    "early_stopping_patience = 10\n",
    "l1_r = 0.1\n",
    "window_size = 10\n",
    "initializer = GlorotUniform()\n",
    "\n",
    "print(f'''\n",
    "\n",
    "embedding dimention: {embedding_dim}\n",
    "vocabulare size: {vocab_size}\n",
    "num of the epochs: {num_epochs}\n",
    "\n",
    "learning rate: {lr}\n",
    "dropout rate: {dr}\n",
    "batch_size: {batch_size}\n",
    "training_batch_size: {training_batch_size}\n",
    "early stopping patience: {early_stopping_patience}\n",
    "window size: {window_size}\n",
    "L1 regularization: {l1_r}\n",
    "''')"
   ]
  },
  {
   "cell_type": "markdown",
   "metadata": {},
   "source": [
    "## a function to create the LSTM model"
   ]
  },
  {
   "cell_type": "code",
   "execution_count": 23,
   "metadata": {},
   "outputs": [],
   "source": [
    "def create_model():\n",
    "    with mirrored_strategy.scope():\n",
    "        print('creat a new model')\n",
    "        model = Sequential()\n",
    "        model.add(Embedding(input_dim=vocab_size, output_dim=embedding_dim, input_length=window_size - 1))\n",
    "        model.add(Bidirectional(LSTM(256, return_sequences=True, kernel_initializer=GlorotUniform()), input_shape=(window_size - 1, embedding_dim)))\n",
    "        model.add(Dropout(dr))\n",
    "        # model.add(Bidirectional(LSTM(128, return_sequences=True, kernel_initializer=initializer)))\n",
    "        # model.add(Dropout(dr))\n",
    "        model.add(Bidirectional(LSTM(128, kernel_initializer=GlorotUniform())))\n",
    "        model.add(Dropout(dr))\n",
    "        model.add(Dense(128, activation='relu', kernel_initializer=GlorotUniform()))\n",
    "        model.add(Dense(vocab_size, activation='softmax', kernel_initializer=GlorotUniform()))\n",
    "\n",
    "        adam = AdamW(learning_rate=lr)\n",
    "        model.compile(loss='sparse_categorical_crossentropy', optimizer=adam, metrics=['SparseCategoricalAccuracy'])\n",
    "    return model"
   ]
  },
  {
   "cell_type": "markdown",
   "metadata": {},
   "source": [
    "## handling the progress function\n",
    "a function that help maintance the progress of the model."
   ]
  },
  {
   "cell_type": "code",
   "execution_count": null,
   "metadata": {},
   "outputs": [],
   "source": [
    "def handle_progress(path):\n",
    "\n",
    "    if os.path.exists(model_progress):\n",
    "        with open(model_progress, \"r\") as f:\n",
    "            model_progress_file = json.load(f)\n",
    "            with mirrored_strategy.scope():\n",
    "                model = load_model(model_progress_file[\"current_model\"])\n",
    "            models_number = len(model_progress_file[\"models\"])\n",
    "            model_path = os.path.join(models_path, f'''model-{models_number}.h5''')\n",
    "    else:\n",
    "        model_progress_file = {\n",
    "            'current_model': '',\n",
    "            'models': [],\n",
    "            'trained_files': [],\n",
    "            'history_logs': []\n",
    "        }\n",
    "        model = create_model()\n",
    "        model_path = os.path.join(models_path, f'''model-0.h5''')\n",
    "\n",
    "    def save_file():\n",
    "        with open(model_progress, \"w\") as f:\n",
    "            json.dump(model_progress_file, f)\n",
    "\n",
    "    def save_history(history_path, history):\n",
    "        if history == None: \n",
    "            return\n",
    "        if not os.path.exists(history_folder):\n",
    "            os.makedirs(history_folder)\n",
    "\n",
    "        with open(history_path, 'w+', newline='') as f:\n",
    "\n",
    "            writer = csv.writer(f)\n",
    "            writer.writerow(history.history.keys())\n",
    "\n",
    "            for epoch in range(len(history.epoch)):\n",
    "                row = [history.history[metric][epoch]\n",
    "                       for metric in history.history.keys()]\n",
    "                writer.writerow(row)\n",
    "\n",
    "    def update_model_progress(model, model_path, history, duration):\n",
    "        id = len(model_progress_file[\"models\"])\n",
    "\n",
    "        current_time = time.strftime('%Y-%m-%d %H:%M:%S', time.localtime())\n",
    "\n",
    "        model_progress_file['models'].append({\n",
    "            'id': id,\n",
    "            'model': model_path,\n",
    "            'last_file': path,\n",
    "            'duration': duration,\n",
    "            'finished_at': current_time\n",
    "        })\n",
    "\n",
    "        history_path = os.path.join(history_folder, f'model-{id}.csv')\n",
    "\n",
    "        save_history(history_path, history)\n",
    "\n",
    "        model_progress_file['trained_files'].append(path)\n",
    "        model_progress_file['history_logs'].append(history_path)\n",
    "        model_progress_file['current_model'] = model_path\n",
    "        model.save(model_path)\n",
    "\n",
    "        save_file()\n",
    "\n",
    "    return model, update_model_progress, model_path"
   ]
  }
 ],
 "metadata": {
  "kernelspec": {
   "display_name": "Python 3",
   "language": "python",
   "name": "python3"
  },
  "language_info": {
   "codemirror_mode": {
    "name": "ipython",
    "version": 3
   },
   "file_extension": ".py",
   "mimetype": "text/x-python",
   "name": "python",
   "nbconvert_exporter": "python",
   "pygments_lexer": "ipython3",
   "version": "3.11.0rc1"
  },
  "orig_nbformat": 4
 },
 "nbformat": 4,
 "nbformat_minor": 2
}
